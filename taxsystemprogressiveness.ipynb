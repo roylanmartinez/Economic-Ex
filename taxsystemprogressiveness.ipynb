{
 "cells": [
  {
   "cell_type": "markdown",
   "metadata": {},
   "source": [
    "# EE201920 3 ASSIGNMENT:\n",
    "    By Roylan Martinez Vargas\n",
    "    NIU: 1539069\n",
    "    Date: December 1, 2019.\n",
    "    Spanish Economy.\n",
    "    Bsc. Economics.\n",
    "    Autonomous University of Barcelona."
   ]
  },
  {
   "cell_type": "markdown",
   "metadata": {},
   "source": [
    "### Introduction:\n",
    "    To solve this problem, I will use exclusively python 3.7.3 without any additional library.\n",
    "##### Defining the base functions\n",
    "    Before answer any question I will create three main functions:\n",
    "    1- consumption(n): the consumption function computes the consumption given n as input, where n is income.\n",
    "    *I used an anonymous function to simplify.\n",
    "    2- incometax(n): the incometax function computes the income tax given n as input, where n is income. \n",
    "    *This function uses recursion to work.\n",
    "    3- ginindex(n): the ginindex function computes the Gini coefficient given n as input, where n is an array of real positive numbers.\n",
    "    *This function uses a subfunction called added to help itself.\n"
   ]
  },
  {
   "cell_type": "code",
   "execution_count": 7,
   "metadata": {},
   "outputs": [],
   "source": [
    "consumption=lambda n: 10000+0.7*(n-10000)"
   ]
  },
  {
   "cell_type": "code",
   "execution_count": 8,
   "metadata": {},
   "outputs": [],
   "source": [
    "def incometax(n):\n",
    "    if n<=5000:\n",
    "        return 0\n",
    "    if n>5000 and n<=12000:\n",
    "        return 0.19*(n-5000)+incometax(5000)\n",
    "    if n>12000 and n<=20000:\n",
    "        return 0.24*(n-12000)+incometax(12000)\n",
    "    if n>20000 and n<=35000:\n",
    "        return 0.3*(n-20000)+incometax(20000)\n",
    "    if n>35000 and n<=60000:\n",
    "        return 0.37*(n-35000)+incometax(35000)\n",
    "    if n>60000:\n",
    "        return 0.45*(n-60000)+incometax(60000)"
   ]
  },
  {
   "cell_type": "code",
   "execution_count": 12,
   "metadata": {},
   "outputs": [],
   "source": [
    "def ginindex(n):\n",
    "    a=len(n)\n",
    "    aa=1/len(n)\n",
    "    t=0\n",
    "    def added(x,vec):\n",
    "        if x==0:\n",
    "            return vec[0]\n",
    "        else:\n",
    "            return vec[x]+added(x-1,vec)\n",
    "    for i in range(len(n)):\n",
    "        a-=1\n",
    "        if i==0:\n",
    "            t+=(((added(i,n))/sum(n))*aa)*(a+0.5)\n",
    "        if i==(len(n)-1):\n",
    "            t+=(((added(i,n))/sum(n))-((added(i-1,n))/sum(n)))*0.5*aa\n",
    "        if i!=0 and i!=(len(n)-1):\n",
    "            t+=((((added(i,n))/sum(n))-((added(i-1,n))/sum(n)))*aa)*(a+0.5)\n",
    "    return 2*(0.5-t)"
   ]
  },
  {
   "cell_type": "markdown",
   "metadata": {},
   "source": [
    "#### 1. How much income tax and VAT pays each income group?\n",
    "    To answer this question I will first create an array of the five income levels and then I will simply use a for loop with the consumption and incometax function."
   ]
  },
  {
   "cell_type": "code",
   "execution_count": 13,
   "metadata": {},
   "outputs": [
    {
     "name": "stdout",
     "output_type": "stream",
     "text": [
      "The citizen with an income level of 10,000€, will have an income tax of 950.00€, a VAT tax of 2,300.00€ and a final income of 6,750.00€\n",
      "\n",
      "The citizen with an income level of 25,000€, will have an income tax of 4,750.00€, a VAT tax of 4,715.00€ and a final income of 15,535.00€\n",
      "\n",
      "The citizen with an income level of 40,000€, will have an income tax of 9,600.00€, a VAT tax of 7,130.00€ and a final income of 23,270.00€\n",
      "\n",
      "The citizen with an income level of 50,000€, will have an income tax of 13,300.00€, a VAT tax of 8,740.00€ and a final income of 27,960.00€\n",
      "\n",
      "The citizen with an income level of 65,000€, will have an income tax of 19,250.00€, a VAT tax of 11,155.00€ and a final income of 34,595.00€\n",
      "\n"
     ]
    }
   ],
   "source": [
    "income=[10000, 25000, 40000, 50000, 65000]\n",
    "for i in income:\n",
    "    print('The citizen with an income level of {:,}€, will have an income tax of {:,.2f}€, a VAT tax of {:,.2f}€ and a final income of {:,.2f}€\\n'.\n",
    "          format(i,incometax(i),0.23*consumption(i),i-incometax(i)-0.23*consumption(i)))"
   ]
  },
  {
   "cell_type": "markdown",
   "metadata": {},
   "source": [
    "#### 2. Which are the Gini coefficients before and after tax?\n",
    "    To answer this question I will just use the ginindex function, the incomelevels array and a new array of income after tax called incaftertax. "
   ]
  },
  {
   "cell_type": "code",
   "execution_count": 32,
   "metadata": {},
   "outputs": [
    {
     "name": "stdout",
     "output_type": "stream",
     "text": [
      "The Gini coefficient before taxes is 0.2842105263157894690095873\n",
      "\n",
      "The Gini coefficient after taxes is 0.2520210896309313941543451\n",
      "\n"
     ]
    }
   ],
   "source": [
    "incaftertax=[]\n",
    "for i in income:\n",
    "    incaftertax.append(i-incometax(i)-0.23*consumption(i))\n",
    "print('The Gini coefficient before taxes is {:.25f}\\n\\nThe Gini coefficient after taxes is {:.25f}\\n'.format(ginindex(income),ginindex(incaftertax)))"
   ]
  },
  {
   "cell_type": "markdown",
   "metadata": {},
   "source": [
    "#### 3. Is the tax system progressive or regressive?\n",
    "    Comparing the Gini coeficcient before taxes and after taxes, we deduce the tax system is progressive."
   ]
  },
  {
   "cell_type": "markdown",
   "metadata": {},
   "source": []
  },
  {
   "cell_type": "markdown",
   "metadata": {},
   "source": [
    "##### All the functions used here are replicable, either with a different number of income level or sample length. I made sure they all work fine testing them with the slides examples and other data."
   ]
  }
 ],
 "metadata": {
  "kernelspec": {
   "display_name": "Python 3",
   "language": "python",
   "name": "python3"
  },
  "language_info": {
   "codemirror_mode": {
    "name": "ipython",
    "version": 3
   },
   "file_extension": ".py",
   "mimetype": "text/x-python",
   "name": "python",
   "nbconvert_exporter": "python",
   "pygments_lexer": "ipython3",
   "version": "3.7.3"
  }
 },
 "nbformat": 4,
 "nbformat_minor": 2
}
