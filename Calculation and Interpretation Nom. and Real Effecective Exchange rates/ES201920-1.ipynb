{
 "cells": [
  {
   "cell_type": "markdown",
   "metadata": {},
   "source": [
    "# Sectoral economics \n",
    "\n",
    "#### Calculation and interpretation of Nominal and Real Effective Exchange Rates\n",
    "**1rst assignment, Group 8**\n",
    "\n",
    "***Bachelor degree in Economics. Autonomous University of Barcelona***\n",
    "\n",
    "***Professor Dr. Javier Asencio***\n",
    "\n",
    "***By, Roylan Martinez Vargas NIU 1539069***\n",
    "\n",
    "\n"
   ]
  },
  {
   "cell_type": "markdown",
   "metadata": {},
   "source": [
    "#### a) Compute the Nominal Effective Exchange Rates of the Spanish economy with respect to the France, Germany, the UK and Sweden for the period 2000-2019. "
   ]
  },
  {
   "cell_type": "markdown",
   "metadata": {},
   "source": [
    "Before anything else, I will compact the data I am interested in:"
   ]
  },
  {
   "cell_type": "code",
   "execution_count": 81,
   "metadata": {
    "scrolled": false
   },
   "outputs": [
    {
     "name": "stdout",
     "output_type": "stream",
     "text": [
      "Trade weight 2016 (w)\n",
      " United_Kingdom    0.215721\n",
      "Germany           0.372366\n",
      "France            0.379897\n",
      "Sweden            0.032016\n",
      "Name: Spain, dtype: float64 \n",
      "\n",
      "\n",
      "Nominal exchange rates (n)\n",
      "                     2000       2019\n",
      "Country                            \n",
      "United Kingdom  0.609478   0.882156\n",
      "Germany         1.000000   1.000000\n",
      "France          1.000000   1.000000\n",
      "Sweden          8.445188  10.632524\n"
     ]
    }
   ],
   "source": [
    "import pandas as pd\n",
    "wtable = pd.read_excel('a37wghts.xls', 'A37W2016', index_col=0)\n",
    "nomtable = pd.read_csv('amecoSerie.txt', sep=',', index_col=0)\n",
    "w = wtable.loc['Spain', ['United_Kingdom', 'Germany', 'France', 'Sweden']]\n",
    "w = w.apply(lambda x: x/w.sum())\n",
    "n = nomtable.loc[['United Kingdom', 'Germany', 'France', 'Sweden'], '1995':'2019']\n",
    "for year in range(1995, 2000):\n",
    "    if type(n[str(year)][0]) is str:\n",
    "        n[str(year)] = n[str(year)].apply(lambda notint: float(notint.strip()))\n",
    "print('Trade weight 2016 (w)\\n', w, '\\n\\n')\n",
    "print('Nominal exchange rates (n)\\n', n[['2000', '2019']])"
   ]
  },
  {
   "cell_type": "markdown",
   "metadata": {},
   "source": [
    "The **Trade weight 2016 (w)** is a series that contains the Spanish *trade weight* with the **United Kingdom**, **Germany**, **France** and **Sweden** in **2016** and the **Nominal Exchange Rates (n)** is a table that contains the *Nominal exchange rates* with the same countries, therefore we are able to compute the **Nominal Effective Exchange Rate** for **2000** and **2019**: "
   ]
  },
  {
   "cell_type": "code",
   "execution_count": 82,
   "metadata": {},
   "outputs": [
    {
     "name": "stdout",
     "output_type": "stream",
     "text": [
      "109.10498445030821 -9.104984450308208\n"
     ]
    }
   ],
   "source": [
    "def neer_func(time):\n",
    "    return (((n.loc['United Kingdom'][time] / n.loc['United Kingdom']['2000']) ** w[0]) * ((n.loc['Germany'][time] / n.loc['Germany']['2000']) ** w[1]) * ((n.loc['France'][time] / n.loc['France']['2000']) ** w[2]) * ((n.loc['Sweden'][time] / n.loc['Sweden']['2000']) ** w[3])) * 100\n",
    "print(neer_func('2019'), 100 - neer_func('2019'))"
   ]
  },
  {
   "cell_type": "markdown",
   "metadata": {},
   "source": [
    "Finally, under a *monotonic evolution* assumption of the **Nominal Effective Exchange Rate** series and a **Trade weight share of 2016**, it takes a **NEER** value of **109.10498445030821** with a competitiveness deterioration of **9.104984450308208** for **Spain** with respect of the **UK, Germany, France** and **Sweden**. \\linebreak"
   ]
  },
  {
   "cell_type": "markdown",
   "metadata": {},
   "source": [
    "#### b) Compute the Real Effective Exchange Rate for Spain against the same countries, in terms the Consumer Price Index: REER (CPI). \\linebreak"
   ]
  },
  {
   "cell_type": "markdown",
   "metadata": {},
   "source": [
    "Before anything else, I will compact the data I am interested in:"
   ]
  },
  {
   "cell_type": "code",
   "execution_count": 83,
   "metadata": {},
   "outputs": [
    {
     "name": "stdout",
     "output_type": "stream",
     "text": [
      "Consumer Price Index (2015 = 100)\n",
      "                      2000        2019\n",
      "Country                              \n",
      "Spain           71.215000  104.394021\n",
      "United Kingdom  72.691667  107.871717\n",
      "Germany         78.933333  105.415409\n",
      "France          78.226667  104.975385\n",
      "Sweden          79.778333  106.858669\n"
     ]
    }
   ],
   "source": [
    "t = pd.read_csv('amecoSerie (2).txt', sep=',', index_col='Country')\n",
    "rtable = t.loc[['Spain', 'United Kingdom', 'Germany', 'France', 'Sweden'], '1995':'2019']\n",
    "for year in range(1995, 2020):\n",
    "    if type(rtable[str(year)][0]) is str:\n",
    "        rtable[str(year)] = rtable[str(year)].apply(lambda notint: float(notint.strip()))\n",
    "print('Consumer Price Index (2015 = 100)\\n', rtable[['2000', '2019']])"
   ]
  },
  {
   "cell_type": "markdown",
   "metadata": {},
   "source": [
    "Since the above data has its base in **2015**, it is necessary to make the **2000** as the new base year."
   ]
  },
  {
   "cell_type": "code",
   "execution_count": 84,
   "metadata": {},
   "outputs": [
    {
     "name": "stdout",
     "output_type": "stream",
     "text": [
      "Consumer Price Index (2000 = 100)\n",
      "                  2000        2019\n",
      "Country                          \n",
      "Spain           100.0  146.589934\n",
      "United Kingdom  100.0  148.396263\n",
      "Germany         100.0  133.549928\n",
      "France          100.0  134.193862\n",
      "Sweden          100.0  133.944474\n"
     ]
    }
   ],
   "source": [
    "rtable = rtable.divide(rtable['2000'], axis=0) * 100\n",
    "print('Consumer Price Index (2000 = 100)\\n', rtable[['2000', '2019']])"
   ]
  },
  {
   "cell_type": "markdown",
   "metadata": {},
   "source": [
    "Now, it is just missing to compute the **Real Effective Exchange Rate**:"
   ]
  },
  {
   "cell_type": "code",
   "execution_count": 85,
   "metadata": {},
   "outputs": [
    {
     "name": "stdout",
     "output_type": "stream",
     "text": [
      "116.84090771655362 -16.840907716553616 -7.735923266245408\n"
     ]
    }
   ],
   "source": [
    "def reer_func(time):\n",
    "    return ((rtable.loc['Spain', time] / rtable.loc['Spain', '2000']) / (((rtable.loc['United Kingdom', time] / rtable.loc['United Kingdom', '2000']) ** w[0]) * ((rtable.loc['Germany', time] / rtable.loc['Germany', '2000']) ** w[1]) * ((rtable.loc['France', time] / rtable.loc['France', '2000']) ** w[2]) * ((rtable.loc['Sweden', time] / rtable.loc['Sweden', '2000']) ** w[3]))) * neer_func(time)\n",
    "print(reer_func('2019'), 100 - reer_func('2019'), (100 - reer_func('2019')) - (100 - neer_func('2019')))"
   ]
  },
  {
   "cell_type": "markdown",
   "metadata": {},
   "source": [
    "The **Real Effective Exchange Rate** of **Spain** against the **United Kingdom**, **Germany**, **Sweden** and **France** for the years **2000** and **2019** is of **116.84090771655362** with a competitiveness deterioration of **16.840907716553616** and therefore with a **worsed competitiveness loss** than the **NEER**, with a difference of **7.735923266245408**. \\linebreak"
   ]
  },
  {
   "cell_type": "markdown",
   "metadata": {},
   "source": [
    "#### c) Plot the evolution of NEER and REER (CPI) against time and write your own interpretation of its meaning"
   ]
  },
  {
   "cell_type": "code",
   "execution_count": 86,
   "metadata": {},
   "outputs": [
    {
     "data": {
      "image/png": "[encoded data removed]",
      "text/plain": [
       "<Figure size 1080x360 with 1 Axes>"
      ]
     },
     "metadata": {
      "needs_background": "light"
     },
     "output_type": "display_data"
    }
   ],
   "source": [
    "import matplotlib.pyplot as plt \n",
    "neerS, reerS , year = [], [], []\n",
    "for series in range(1998,2020):\n",
    "    neerS.append(neer_func(str(series)))\n",
    "    reerS.append(reer_func(str(series)))\n",
    "    year.append(series)\n",
    "finalt = pd.DataFrame({'neer':neerS, 'reer':reerS})\n",
    "plt.plot(year, finalt['reer'], ':',linewidth=2, label='REER')\n",
    "plt.plot(year, finalt['neer'], ':',linewidth=2, label='NEER')\n",
    "plt.fill_between(year, finalt['reer'], 100, alpha=0.25)\n",
    "plt.fill_between(year, finalt['neer'], 100, alpha=0.30)\n",
    "plt.grid()\n",
    "plt.legend()\n",
    "plt.xlabel('YEARS')\n",
    "plt.ylabel('REER AND NEER')\n",
    "plt.title('NEER AND REER EVOLUTION ACROSS TIME')\n",
    "plt.show()"
   ]
  },
  {
   "cell_type": "markdown",
   "metadata": {},
   "source": [
    "The **NEER** and **REER** evolution across time have significantly diverged across time. They both have a strong correlation with the each other, however the **NEER** has overall lower values; up to a divergence of **7.735923266245408** in 2019 (in comparisson with the **NEER**).\\linebreak\n",
    "The increasing values of the **NEER** and **REER** overall can be argued to be due to a higher depreciation rate by the other countries currencies in contrast with the **Spain euro** depreciation rate patern. In the other hand, the overall higher values of the **REER** in comparisson with the **NEER** can be explained by a higher inflation patern in **Spain** in comparisson with the other countries in a *side by side* comparisson while keeping constant the **NEER** changes."
   ]
  }
 ],
 "metadata": {
  "kernelspec": {
   "display_name": "Python 3",
   "language": "python",
   "name": "python3"
  },
  "language_info": {
   "codemirror_mode": {
    "name": "ipython",
    "version": 3
   },
   "file_extension": ".py",
   "mimetype": "text/x-python",
   "name": "python",
   "nbconvert_exporter": "python",
   "pygments_lexer": "ipython3",
   "version": "3.7.4"
  }
 },
 "nbformat": 4,
 "nbformat_minor": 4
}
